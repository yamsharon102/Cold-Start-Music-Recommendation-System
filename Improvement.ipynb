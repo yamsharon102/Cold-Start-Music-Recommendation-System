{
 "cells": [
  {
   "cell_type": "code",
   "execution_count": 1,
   "metadata": {},
   "outputs": [],
   "source": [
    "import pandas as pd\n",
    "import numpy as np\n",
    "import csv\n",
    "# from surprise import SVD, SVDpp\n",
    "# from surprise import Dataset\n",
    "# import pandas as pd\n",
    "# import surprise\n",
    "# from surprise import Reader\n",
    "# from surprise.model_selection import cross_validate\n",
    "from tqdm import tqdm_notebook as tqdm\n",
    "from sklearn.metrics import mean_squared_error\n",
    "import lightgbm as lgbm\n",
    "import copy\n",
    "from sklearn.metrics import roc_auc_score\n",
    "\n",
    "from sklearn.metrics import roc_curve, auc\n",
    "from sklearn.model_selection import GridSearchCV\n",
    "import matplotlib.pyplot as plt\n",
    "\n",
    "import warnings\n",
    "warnings.filterwarnings(\"ignore\")"
   ]
  },
  {
   "cell_type": "code",
   "execution_count": 2,
   "metadata": {},
   "outputs": [],
   "source": [
    "train_df = pd.read_csv('Data/my_data/final_data/train3.csv')"
   ]
  },
  {
   "cell_type": "code",
   "execution_count": 3,
   "metadata": {},
   "outputs": [],
   "source": [
    "test_df = pd.read_csv('Data/my_data/final_data/test3.csv')"
   ]
  },
  {
   "cell_type": "code",
   "execution_count": 4,
   "metadata": {},
   "outputs": [],
   "source": [
    "# df_train = train_df[base_columns]\n",
    "# df_test = test_df[base_columns]\n",
    "df_all = pd.concat([train_df, test_df])"
   ]
  },
  {
   "cell_type": "code",
   "execution_count": null,
   "metadata": {},
   "outputs": [],
   "source": []
  },
  {
   "cell_type": "code",
   "execution_count": 5,
   "metadata": {},
   "outputs": [],
   "source": [
    "ua_svd = df_all['svd_ua']\n",
    "ua_svd_fixed = []\n",
    "for x in ua_svd:\n",
    "    try:\n",
    "        ua_svd_fixed.append(float(x))\n",
    "    except:\n",
    "        ua_svd_fixed.append(float(x[2:-2]))\n",
    "df_all['svd_ua'] = ua_svd_fixed"
   ]
  },
  {
   "cell_type": "code",
   "execution_count": null,
   "metadata": {},
   "outputs": [],
   "source": []
  },
  {
   "cell_type": "code",
   "execution_count": 6,
   "metadata": {},
   "outputs": [],
   "source": [
    "# base_columns = []\n",
    "# for col in train_df.columns:\n",
    "#     if col in ['user', 'song', 'title' ,'artist', 'lyrics']:\n",
    "#         continue\n",
    "#     base_columns.append(col)"
   ]
  },
  {
   "cell_type": "code",
   "execution_count": 7,
   "metadata": {},
   "outputs": [],
   "source": [
    "if 's_country' in df_all.columns:\n",
    "    df_all['country'] = pd.factorize(df_all['s_country'])[0] + 1\n",
    "    df_all = df_all[[i for i in list(df_all.columns) if 's_country' != i]]\n",
    "X = df_all[[x for x in df_all.columns if 'sim' not in x and 'count' not in x and\n",
    "            'svd' not in x and x not in ['user', 'song', 'title' ,'artist', 'lyrics', 'target']]]\n",
    "Y = df_all['target']"
   ]
  },
  {
   "cell_type": "code",
   "execution_count": 9,
   "metadata": {},
   "outputs": [
    {
     "data": {
      "text/plain": [
       "1028.0"
      ]
     },
     "execution_count": 9,
     "metadata": {},
     "output_type": "execute_result"
    }
   ],
   "source": [
    "max(X['age_diff'])"
   ]
  },
  {
   "cell_type": "code",
   "execution_count": 10,
   "metadata": {},
   "outputs": [
    {
     "name": "stdout",
     "output_type": "stream",
     "text": [
      "age_diff - [0.0 - 1028.0]\n",
      "exp_DM - [101.0 - 3112.0]\n",
      "exp_MY - [12010.0 - 122019.0]\n",
      "exp_Y - [2004.0 - 2020.0]\n",
      "exp_YMD - [20041016.0 - 20201017.0]\n",
      "reg_DM - [101.0 - 3112.0]\n",
      "reg_MY - [12005.0 - 122016.0]\n",
      "reg_Y - [2004.0 - 2017.0]\n",
      "reg_YMD - [20040326.0 - 20170131.0]\n",
      "s_year - [1919.0 - 2018.0]\n",
      "u_age - [-43.0 - 1030.0]\n",
      "popularity - [0.0 - 93.0]\n",
      "acousticness - [1.39e-06 - 0.996]\n",
      "danceability - [0.0596 - 0.986]\n",
      "duration_ms - [22750.0 - 1412451.0]\n",
      "energy - [0.00264 - 0.9990000000000001]\n",
      "instrumentalness - [0.0 - 0.996]\n",
      "liveness - [0.00967 - 0.99]\n",
      "loudness - [-42.402 - 0.892]\n",
      "speechiness - [0.0225 - 0.96]\n",
      "tempo - [36.71 - 239.84799999999998]\n",
      "valence - [0.0176 - 0.9890000000000001]\n",
      "Doc2Vec_0 - [-4.439262390136719 - 4.465700149536133]\n",
      "Doc2Vec_1 - [-4.500436305999756 - 3.739881992340088]\n",
      "Doc2Vec_2 - [-5.070983409881592 - 3.958807468414306]\n",
      "Doc2Vec_3 - [-4.517634391784668 - 4.858319282531738]\n",
      "Doc2Vec_4 - [-2.8271477222442627 - 4.203880786895752]\n",
      "sentiment_negative - [0.0 - 0.603]\n",
      "sentiment_neutral - [0.265 - 1.0]\n",
      "sentiment_positive - [0.0 - 0.735]\n"
     ]
    }
   ],
   "source": [
    "for x in X.columns:\n",
    "    print('%s - [%s - %s]' % (x, min(X[x]), max(X[x])))"
   ]
  },
  {
   "cell_type": "code",
   "execution_count": null,
   "metadata": {},
   "outputs": [],
   "source": []
  },
  {
   "cell_type": "code",
   "execution_count": 8,
   "metadata": {},
   "outputs": [],
   "source": [
    "train_set_x = X.head(len(train_df))\n",
    "train_set_y = Y.head(len(train_df))\n",
    "test_set_x = X.tail(len(test_df))\n",
    "test_set_y = Y.tail(len(test_df))"
   ]
  },
  {
   "cell_type": "code",
   "execution_count": 9,
   "metadata": {},
   "outputs": [
    {
     "data": {
      "text/plain": [
       "Index(['age_diff', 'exp_DM', 'exp_MY', 'exp_Y', 'exp_YMD', 'reg_DM', 'reg_MY',\n",
       "       'reg_Y', 'reg_YMD', 's_year', 'u_age', 'popularity', 'acousticness',\n",
       "       'danceability', 'duration_ms', 'energy', 'instrumentalness', 'liveness',\n",
       "       'loudness', 'speechiness', 'tempo', 'valence', 'Doc2Vec_0', 'Doc2Vec_1',\n",
       "       'Doc2Vec_2', 'Doc2Vec_3', 'Doc2Vec_4', 'sentiment_negative',\n",
       "       'sentiment_neutral', 'sentiment_positive'],\n",
       "      dtype='object')"
      ]
     },
     "execution_count": 9,
     "metadata": {},
     "output_type": "execute_result"
    }
   ],
   "source": [
    "train_set_x.columns"
   ]
  },
  {
   "cell_type": "code",
   "execution_count": 10,
   "metadata": {},
   "outputs": [
    {
     "data": {
      "text/plain": [
       "LGBMClassifier(boosting_type='gbdt', class_weight=None, colsample_bytree=0.7,\n",
       "        importance_type='split', learning_rate=0.05, max_depth=15,\n",
       "        min_child_samples=20, min_child_weight=0.001, min_split_gain=0.0,\n",
       "        n_estimators=100, n_jobs=-1, num_leaves=256, objective=None,\n",
       "        random_state=None, reg_alpha=0.0, reg_lambda=0.0, silent=True,\n",
       "        subsample=0.7, subsample_for_bin=200000, subsample_freq=0)"
      ]
     },
     "execution_count": 10,
     "metadata": {},
     "output_type": "execute_result"
    }
   ],
   "source": [
    "model1 = lgbm.LGBMClassifier(learning_rate=0.05, max_depth=15, \n",
    "                             num_leaves=2**8, colsample_bytree=0.7,\n",
    "                             subsample=0.7)\n",
    "model1.fit(train_set_x, train_set_y, verbose=1)"
   ]
  },
  {
   "cell_type": "code",
   "execution_count": 11,
   "metadata": {},
   "outputs": [
    {
     "data": {
      "text/plain": [
       "LGBMClassifier(boosting_type='gbdt', class_weight=None, colsample_bytree=0.9,\n",
       "        importance_type='split', learning_rate=0.1, max_depth=15,\n",
       "        min_child_samples=20, min_child_weight=0.001, min_split_gain=0.0,\n",
       "        n_estimators=100, n_jobs=-1, num_leaves=256, objective=None,\n",
       "        random_state=None, reg_alpha=0.0, reg_lambda=0.0, silent=True,\n",
       "        subsample=0.9, subsample_for_bin=200000, subsample_freq=0)"
      ]
     },
     "execution_count": 11,
     "metadata": {},
     "output_type": "execute_result"
    }
   ],
   "source": [
    "model2 = lgbm.LGBMClassifier(learning_rate=0.1, max_depth=15, \n",
    "                             num_leaves=2**8, colsample_bytree=0.9,\n",
    "                             subsample=0.9)\n",
    "model2.fit(train_set_x, train_set_y, verbose=1)"
   ]
  },
  {
   "cell_type": "code",
   "execution_count": 12,
   "metadata": {
    "scrolled": true
   },
   "outputs": [],
   "source": [
    "# parameters = {'learning_rate':[0.01, 0.05, 0.1], \n",
    "#               'max_depth':[15, 25, 35],\n",
    "#              'colsample_bytree':[0.6,0.7,0.8,0.9],\n",
    "#              'subsample':[0.6,0.7,0.8,0.9]}\n",
    "\n",
    "# search = GridSearchCV(estimator = model1, param_grid = parameters, scoring='roc_auc',\n",
    "#                           cv = 4, n_jobs = 2, verbose = 2)\n",
    "\n",
    "# # Fits Grid Search CV to find best params\n",
    "# search.fit(train_set_x, train_set_y)\n",
    "\n",
    "# b_params = search.best_params_\n",
    "# print('Best params -',b_params)\n",
    "# logRegModel = search.best_estimator_"
   ]
  },
  {
   "cell_type": "code",
   "execution_count": 60,
   "metadata": {},
   "outputs": [
    {
     "data": {
      "text/plain": [
       "LGBMClassifier(boosting_type='gbdt', class_weight=None, colsample_bytree=0.6,\n",
       "        importance_type='split', learning_rate=0.01, max_depth=25,\n",
       "        min_child_samples=20, min_child_weight=0.001, min_split_gain=0.0,\n",
       "        n_estimators=100, n_jobs=-1, num_leaves=256, objective=None,\n",
       "        random_state=None, reg_alpha=0.0, reg_lambda=0.0, silent=True,\n",
       "        subsample=0.6, subsample_for_bin=200000, subsample_freq=0)"
      ]
     },
     "execution_count": 60,
     "metadata": {},
     "output_type": "execute_result"
    }
   ],
   "source": [
    "model3 = lgbm.LGBMClassifier(learning_rate=0.01, max_depth=25, \n",
    "                             num_leaves=2**8, colsample_bytree=0.6,\n",
    "                             subsample=0.6)\n",
    "model3.fit(train_set_x, train_set_y, verbose=1)"
   ]
  },
  {
   "cell_type": "code",
   "execution_count": 34,
   "metadata": {},
   "outputs": [],
   "source": [
    "# train_set_x, train_set_y, test_set_x, test_set_y"
   ]
  },
  {
   "cell_type": "code",
   "execution_count": 13,
   "metadata": {},
   "outputs": [
    {
     "name": "stdout",
     "output_type": "stream",
     "text": [
      "model1 train AUC 0.7166138695164465\n",
      "model2 train AUC 0.7459865638891608\n",
      "ensemble_train train AUC 0.7347566814036153\n"
     ]
    }
   ],
   "source": [
    "y1 = [x[1] for x in model1.predict_proba(train_set_x)]\n",
    "print('model1 train AUC',roc_auc_score(train_set_y, y1))\n",
    "y2 = [x[1] for x in model2.predict_proba(train_set_x)]\n",
    "print('model2 train AUC',roc_auc_score(train_set_y, y2))\n",
    "# y3 = [x[1] for x in model3.predict_proba(train_set_x)]\n",
    "# print('model3 train AUC',roc_auc_score(train_set_y, y3))\n",
    "ensemble_train = [(y1[i]+y2[i])/2 for i in range(len(y1))]\n",
    "print('ensemble_train train AUC',roc_auc_score(train_set_y, ensemble_train))"
   ]
  },
  {
   "cell_type": "code",
   "execution_count": 14,
   "metadata": {},
   "outputs": [
    {
     "name": "stdout",
     "output_type": "stream",
     "text": [
      "model1 test AUC 0.6170694079642084\n",
      "model2 test AUC 0.6137922446057105\n",
      "ensemble_test test AUC 0.6173295152538594\n"
     ]
    }
   ],
   "source": [
    "\n",
    "y_pred1 = [x[1] for x in model1.predict_proba(test_set_x)]\n",
    "print('model1 test AUC',roc_auc_score(test_set_y, y_pred1))\n",
    "y_pred2 = [x[1] for x in model2.predict_proba(test_set_x)]\n",
    "print('model2 test AUC',roc_auc_score(test_set_y, y_pred2))\n",
    "# y_pred3 = [x[1] for x in model3.predict_proba(test_set_x)]\n",
    "# print('model3 test AUC',roc_auc_score(test_set_y, y_pred3))\n",
    "ensemble_test = [(y_pred1[i]+y_pred2[i])/2 for i in range(len(y_pred1))]\n",
    "print('ensemble_test test AUC',roc_auc_score(test_set_y, ensemble_test))\n"
   ]
  },
  {
   "cell_type": "code",
   "execution_count": 13,
   "metadata": {},
   "outputs": [
    {
     "data": {
      "text/plain": [
       "(632393, 30)"
      ]
     },
     "execution_count": 13,
     "metadata": {},
     "output_type": "execute_result"
    }
   ],
   "source": [
    "train_set_x.shape"
   ]
  },
  {
   "cell_type": "code",
   "execution_count": null,
   "metadata": {},
   "outputs": [],
   "source": []
  },
  {
   "cell_type": "code",
   "execution_count": 37,
   "metadata": {},
   "outputs": [
    {
     "name": "stderr",
     "output_type": "stream",
     "text": [
      "No handles with labels found to put in legend.\n"
     ]
    },
    {
     "data": {
      "image/png": "[encoded data removed]",
      "text/plain": [
       "<Figure size 432x288 with 1 Axes>"
      ]
     },
     "metadata": {
      "needs_background": "light"
     },
     "output_type": "display_data"
    }
   ],
   "source": [
    "# Prints ROC graph\n",
    "fpr, tpr, thresholds = roc_curve(test_set_y, ensemble_test)\n",
    "plt.figure()\n",
    "lw = 2\n",
    "plt.plot(fpr, tpr, color='darkorange', lw=lw)\n",
    "plt.plot([0, 1], [0, 1], color='navy', lw=lw, linestyle='--')\n",
    "plt.xlim([0.0, 1.0])\n",
    "plt.ylim([0.0, 1.05])\n",
    "plt.xlabel('False Positive Rate')\n",
    "plt.ylabel('True Positive Rate')\n",
    "plt.title('Validation ROC')\n",
    "plt.legend(loc=\"lower right\")\n",
    "plt.fill_between(fpr, tpr, facecolor='grey', step=\"pre\", alpha=0.4)\n",
    "plt.show()"
   ]
  },
  {
   "cell_type": "code",
   "execution_count": 30,
   "metadata": {},
   "outputs": [],
   "source": [
    "tmpX = []\n",
    "tmpY = []\n",
    "for x in range(len(fpr)):\n",
    "    tmpX.append(float(x/(len(fpr)-1)))\n",
    "    tmpY.append(float(x/(len(fpr)-1)))\n",
    "    "
   ]
  },
  {
   "cell_type": "code",
   "execution_count": 31,
   "metadata": {},
   "outputs": [
    {
     "data": {
      "image/png": "[encoded data removed]",
      "text/plain": [
       "<Figure size 432x288 with 1 Axes>"
      ]
     },
     "metadata": {
      "needs_background": "light"
     },
     "output_type": "display_data"
    }
   ],
   "source": [
    "plt.plot(tmpX, tmpY)\n",
    "plt.show()"
   ]
  },
  {
   "cell_type": "code",
   "execution_count": null,
   "metadata": {},
   "outputs": [],
   "source": []
  }
 ],
 "metadata": {
  "kernelspec": {
   "display_name": "Python 3",
   "language": "python",
   "name": "python3"
  },
  "language_info": {
   "codemirror_mode": {
    "name": "ipython",
    "version": 3
   },
   "file_extension": ".py",
   "mimetype": "text/x-python",
   "name": "python",
   "nbconvert_exporter": "python",
   "pygments_lexer": "ipython3",
   "version": "3.7.1"
  }
 },
 "nbformat": 4,
 "nbformat_minor": 2
}
