{
 "cells": [
  {
   "cell_type": "code",
   "execution_count": 1,
   "metadata": {},
   "outputs": [],
   "source": [
    "import pandas as pd\n",
    "import numpy as np\n",
    "import csv\n",
    "# from surprise import SVD, SVDpp\n",
    "# from surprise import Dataset\n",
    "# import pandas as pd\n",
    "# import surprise\n",
    "# from surprise import Reader\n",
    "# from surprise.model_selection import cross_validate\n",
    "from tqdm import tqdm_notebook as tqdm\n",
    "from sklearn.metrics import mean_squared_error\n",
    "import lightgbm as lgbm\n",
    "import copy\n",
    "from sklearn.metrics import roc_auc_score"
   ]
  },
  {
   "cell_type": "code",
   "execution_count": 2,
   "metadata": {},
   "outputs": [
    {
     "name": "stderr",
     "output_type": "stream",
     "text": [
      "C:\\Users\\yamsharon102\\Anaconda3\\lib\\site-packages\\IPython\\core\\interactiveshell.py:3020: DtypeWarning: Columns (16) have mixed types. Specify dtype option on import or set low_memory=False.\n",
      "  interactivity=interactivity, compiler=compiler, result=result)\n"
     ]
    }
   ],
   "source": [
    "df_train = pd.read_csv('Data/my_data/train_features.csv')\n",
    "df_train['country'] = pd.factorize(df_train['s_country'])[0] + 1\n",
    "df_train = df_train[[i for i in list(df_train.columns) if 's_country' != i]]\n",
    "df_train = df_train.reindex(columns=[x for x in df_train.columns if x != 'target'] + ['target'])\n",
    "df_train_copy = copy.deepcopy(df_train)\n",
    "X = df_train_copy.reindex(columns=[x for x in df_train_copy.columns if x != 'target' and x != 'user' and x != 'song' and x != 'svd_ua'])\n",
    "    \n",
    "Y = df_train_copy['target']"
   ]
  },
  {
   "cell_type": "code",
   "execution_count": 3,
   "metadata": {},
   "outputs": [],
   "source": [
    "df_test = pd.read_csv('Data/my_data/test_features.csv')"
   ]
  },
  {
   "cell_type": "code",
   "execution_count": 4,
   "metadata": {},
   "outputs": [
    {
     "data": {
      "text/plain": [
       "LGBMClassifier(boosting_type='gbdt', class_weight=None, colsample_bytree=0.7,\n",
       "        importance_type='split', learning_rate=0.05, max_depth=15,\n",
       "        min_child_samples=20, min_child_weight=0.001, min_split_gain=0.0,\n",
       "        n_estimators=100, n_jobs=-1, num_leaves=256, objective=None,\n",
       "        random_state=None, reg_alpha=0.0, reg_lambda=0.0, silent=True,\n",
       "        subsample=0.7, subsample_for_bin=200000, subsample_freq=0)"
      ]
     },
     "execution_count": 4,
     "metadata": {},
     "output_type": "execute_result"
    }
   ],
   "source": [
    "model1 = lgbm.LGBMClassifier(learning_rate=0.05, max_depth=15, \n",
    "                             num_leaves=2**8, colsample_bytree=0.7,\n",
    "                             subsample=0.7)\n",
    "model1.fit(X, Y, verbose=1)"
   ]
  },
  {
   "cell_type": "code",
   "execution_count": 5,
   "metadata": {},
   "outputs": [
    {
     "data": {
      "text/plain": [
       "LGBMClassifier(boosting_type='gbdt', class_weight=None, colsample_bytree=0.9,\n",
       "        importance_type='split', learning_rate=0.1, max_depth=15,\n",
       "        min_child_samples=20, min_child_weight=0.001, min_split_gain=0.0,\n",
       "        n_estimators=100, n_jobs=-1, num_leaves=256, objective=None,\n",
       "        random_state=None, reg_alpha=0.0, reg_lambda=0.0, silent=True,\n",
       "        subsample=0.9, subsample_for_bin=200000, subsample_freq=0)"
      ]
     },
     "execution_count": 5,
     "metadata": {},
     "output_type": "execute_result"
    }
   ],
   "source": [
    "model2 = lgbm.LGBMClassifier(learning_rate=0.1, max_depth=15, \n",
    "                             num_leaves=2**8, colsample_bytree=0.9,\n",
    "                             subsample=0.9)\n",
    "model2.fit(X, Y, verbose=1)"
   ]
  },
  {
   "cell_type": "code",
   "execution_count": 9,
   "metadata": {},
   "outputs": [],
   "source": [
    "df_test = pd.read_csv('Data/my_data/test_features.csv', index=False) \n",
    "\n",
    "df_test['country'] = pd.factorize(df_test['s_country'])[0] + 1\n",
    "df_test = df_test[[i for i in list(df_test.columns) if 's_country' != i]]\n",
    "df_test = df_test.reindex(columns=[x for x in df_test.columns if x != 'target'] + ['target'])\n",
    "\n",
    "df_test_copy = copy.deepcopy(df_test)\n",
    "X_test = df_test_copy.reindex(columns=[x for x in df_test_copy.columns if 'Unnamed' not in x and x != 'target' and x != 'user' and x != 'song' and x != 'svd_ua'])    \n",
    "Y_test = df_test_copy['target']"
   ]
  },
  {
   "cell_type": "code",
   "execution_count": 10,
   "metadata": {},
   "outputs": [
    {
     "name": "stdout",
     "output_type": "stream",
     "text": [
      "model1 train AUC 0.8125542840043058\n",
      "model2 train AUC 0.8185979767899698\n",
      "model1 test AUC 0.6709363337608998\n",
      "model2 test AUC 0.6675493241399761\n"
     ]
    }
   ],
   "source": [
    "y1 = model1.predict(X)\n",
    "print('model1 train AUC',roc_auc_score(Y, y1))\n",
    "y2 = model2.predict(X)\n",
    "print('model2 train AUC',roc_auc_score(Y, y2))\n",
    "y_pred1 = model1.predict(X_test)\n",
    "print('model1 test AUC',roc_auc_score(Y_test, y_pred1))\n",
    "y_pred2 = model2.predict(X_test)\n",
    "print('model2 test AUC',roc_auc_score(Y_test, y_pred2))"
   ]
  },
  {
   "cell_type": "code",
   "execution_count": 12,
   "metadata": {},
   "outputs": [
    {
     "name": "stdout",
     "output_type": "stream",
     "text": [
      "ensemble_test test AUC 0.6736377247420028\n"
     ]
    }
   ],
   "source": [
    "ensemble_test = [(y_pred1[i]+y_pred2[i])/2 for i in range(len(y_pred1))]\n",
    "print('ensemble_test test AUC',roc_auc_score(Y_test, ensemble_test))\n"
   ]
  },
  {
   "cell_type": "code",
   "execution_count": null,
   "metadata": {},
   "outputs": [],
   "source": []
  }
 ],
 "metadata": {
  "kernelspec": {
   "display_name": "Python 3",
   "language": "python",
   "name": "python3"
  },
  "language_info": {
   "codemirror_mode": {
    "name": "ipython",
    "version": 3
   },
   "file_extension": ".py",
   "mimetype": "text/x-python",
   "name": "python",
   "nbconvert_exporter": "python",
   "pygments_lexer": "ipython3",
   "version": "3.7.1"
  }
 },
 "nbformat": 4,
 "nbformat_minor": 2
}
