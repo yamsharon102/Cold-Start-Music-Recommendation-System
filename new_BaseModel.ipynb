{
 "cells": [
  {
   "cell_type": "code",
   "execution_count": 15,
   "metadata": {},
   "outputs": [],
   "source": [
    "import pandas as pd\n",
    "import numpy as np\n",
    "from tqdm import tqdm_notebook as tqdm\n",
    "from sklearn.metrics import mean_squared_error\n",
    "import lightgbm as lgbm\n",
    "import copy\n",
    "from sklearn.metrics import roc_auc_score\n",
    "\n",
    "from sklearn.metrics import roc_curve, auc\n",
    "from sklearn.model_selection import GridSearchCV\n",
    "import matplotlib.pyplot as plt\n",
    "\n",
    "import warnings\n",
    "warnings.filterwarnings(\"ignore\")"
   ]
  },
  {
   "cell_type": "code",
   "execution_count": 2,
   "metadata": {},
   "outputs": [],
   "source": [
    "def get_data():\n",
    "    train_df = pd.read_csv('Data/my_data/final_data/train3.csv')\n",
    "    test_df = pd.read_csv('Data/my_data/final_data/test3.csv')\n",
    "    \n",
    "    base_columns = []\n",
    "    for col in train_df.columns:\n",
    "        if col == 'user' or col == 'song':\n",
    "            continue\n",
    "        base_columns.append(col)\n",
    "        if col == 'user_count':\n",
    "            break\n",
    "            \n",
    "    df_train = train_df[base_columns]\n",
    "    df_test = test_df[base_columns]\n",
    "    df_all = pd.concat([df_train, df_test])\n",
    "    \n",
    "    ua_svd = df_all['svd_ua']\n",
    "    ua_svd_fixed = []\n",
    "    for x in ua_svd:\n",
    "        try:\n",
    "            ua_svd_fixed.append(float(x))\n",
    "        except:\n",
    "            ua_svd_fixed.append(float(x[2:-2]))\n",
    "    df_all['svd_ua'] = ua_svd_fixed\n",
    "    \n",
    "    if 's_country' in df_all.columns:\n",
    "        df_all['country'] = pd.factorize(df_all['s_country'])[0] + 1\n",
    "        df_all = df_all[[i for i in list(df_all.columns) if 's_country' != i]]\n",
    "        \n",
    "    return df_all, len(train_df), len(test_df)"
   ]
  },
  {
   "cell_type": "code",
   "execution_count": 3,
   "metadata": {},
   "outputs": [],
   "source": [
    "def split_data(df_all, train_len, test_len):\n",
    "    \n",
    "    X = df_all[[x for x in df_all.columns if 'count' not in x and 'sim' not in x and x != 'target' and x != 'user' and x != 'song']]\n",
    "    Y = df_all['target']\n",
    "    \n",
    "    train_set_x = X.head(train_len)\n",
    "    train_set_y = Y.head(train_len)\n",
    "    test_set_x = X.tail(test_len)\n",
    "    test_set_y = Y.tail(test_len)\n",
    "    \n",
    "    return train_set_x, train_set_y, test_set_x, test_set_y"
   ]
  },
  {
   "cell_type": "code",
   "execution_count": 4,
   "metadata": {},
   "outputs": [
    {
     "name": "stderr",
     "output_type": "stream",
     "text": [
      "C:\\Users\\yamsharon102\\Anaconda3\\lib\\site-packages\\IPython\\core\\interactiveshell.py:3185: DtypeWarning: Columns (13) have mixed types. Specify dtype option on import or set low_memory=False.\n",
      "  if (yield from self.run_code(code, result)):\n"
     ]
    }
   ],
   "source": [
    "df_all, train_len, test_len = get_data()"
   ]
  },
  {
   "cell_type": "code",
   "execution_count": 5,
   "metadata": {},
   "outputs": [
    {
     "data": {
      "text/html": [
       "<div>\n",
       "<style scoped>\n",
       "    .dataframe tbody tr th:only-of-type {\n",
       "        vertical-align: middle;\n",
       "    }\n",
       "\n",
       "    .dataframe tbody tr th {\n",
       "        vertical-align: top;\n",
       "    }\n",
       "\n",
       "    .dataframe thead th {\n",
       "        text-align: right;\n",
       "    }\n",
       "</style>\n",
       "<table border=\"1\" class=\"dataframe\">\n",
       "  <thead>\n",
       "    <tr style=\"text-align: right;\">\n",
       "      <th></th>\n",
       "      <th>age_diff</th>\n",
       "      <th>exp_DM</th>\n",
       "      <th>exp_MY</th>\n",
       "      <th>exp_Y</th>\n",
       "      <th>exp_YMD</th>\n",
       "      <th>reg_DM</th>\n",
       "      <th>reg_MY</th>\n",
       "      <th>reg_Y</th>\n",
       "      <th>reg_YMD</th>\n",
       "      <th>s_year</th>\n",
       "      <th>sim_us</th>\n",
       "      <th>svd_ua</th>\n",
       "      <th>svd_us</th>\n",
       "      <th>target</th>\n",
       "      <th>u_age</th>\n",
       "      <th>user_count</th>\n",
       "      <th>country</th>\n",
       "    </tr>\n",
       "  </thead>\n",
       "  <tbody>\n",
       "    <tr>\n",
       "      <th>0</th>\n",
       "      <td>2.0</td>\n",
       "      <td>510.0</td>\n",
       "      <td>102017.0</td>\n",
       "      <td>2017.0</td>\n",
       "      <td>20171005.0</td>\n",
       "      <td>201.0</td>\n",
       "      <td>12012.0</td>\n",
       "      <td>2012.0</td>\n",
       "      <td>20120102.0</td>\n",
       "      <td>2016.0</td>\n",
       "      <td>0.056927</td>\n",
       "      <td>0.389718</td>\n",
       "      <td>0.557183</td>\n",
       "      <td>1</td>\n",
       "      <td>0.0</td>\n",
       "      <td>1287</td>\n",
       "      <td>1</td>\n",
       "    </tr>\n",
       "    <tr>\n",
       "      <th>1</th>\n",
       "      <td>2.0</td>\n",
       "      <td>510.0</td>\n",
       "      <td>102017.0</td>\n",
       "      <td>2017.0</td>\n",
       "      <td>20171005.0</td>\n",
       "      <td>201.0</td>\n",
       "      <td>12012.0</td>\n",
       "      <td>2012.0</td>\n",
       "      <td>20120102.0</td>\n",
       "      <td>2016.0</td>\n",
       "      <td>0.052756</td>\n",
       "      <td>0.441807</td>\n",
       "      <td>0.549274</td>\n",
       "      <td>1</td>\n",
       "      <td>0.0</td>\n",
       "      <td>1287</td>\n",
       "      <td>2</td>\n",
       "    </tr>\n",
       "    <tr>\n",
       "      <th>2</th>\n",
       "      <td>21.0</td>\n",
       "      <td>403.0</td>\n",
       "      <td>32018.0</td>\n",
       "      <td>2018.0</td>\n",
       "      <td>20180304.0</td>\n",
       "      <td>711.0</td>\n",
       "      <td>112011.0</td>\n",
       "      <td>2011.0</td>\n",
       "      <td>20111107.0</td>\n",
       "      <td>2013.0</td>\n",
       "      <td>0.020542</td>\n",
       "      <td>0.811370</td>\n",
       "      <td>0.839421</td>\n",
       "      <td>1</td>\n",
       "      <td>26.0</td>\n",
       "      <td>247</td>\n",
       "      <td>2</td>\n",
       "    </tr>\n",
       "    <tr>\n",
       "      <th>3</th>\n",
       "      <td>10.0</td>\n",
       "      <td>3009.0</td>\n",
       "      <td>92017.0</td>\n",
       "      <td>2017.0</td>\n",
       "      <td>20170930.0</td>\n",
       "      <td>2012.0</td>\n",
       "      <td>122015.0</td>\n",
       "      <td>2015.0</td>\n",
       "      <td>20151220.0</td>\n",
       "      <td>2010.0</td>\n",
       "      <td>-0.136646</td>\n",
       "      <td>0.381177</td>\n",
       "      <td>0.470182</td>\n",
       "      <td>0</td>\n",
       "      <td>18.0</td>\n",
       "      <td>84</td>\n",
       "      <td>1</td>\n",
       "    </tr>\n",
       "    <tr>\n",
       "      <th>4</th>\n",
       "      <td>6.0</td>\n",
       "      <td>3009.0</td>\n",
       "      <td>92017.0</td>\n",
       "      <td>2017.0</td>\n",
       "      <td>20170930.0</td>\n",
       "      <td>2012.0</td>\n",
       "      <td>122015.0</td>\n",
       "      <td>2015.0</td>\n",
       "      <td>20151220.0</td>\n",
       "      <td>2006.0</td>\n",
       "      <td>-0.085568</td>\n",
       "      <td>0.347342</td>\n",
       "      <td>0.444218</td>\n",
       "      <td>0</td>\n",
       "      <td>18.0</td>\n",
       "      <td>84</td>\n",
       "      <td>1</td>\n",
       "    </tr>\n",
       "  </tbody>\n",
       "</table>\n",
       "</div>"
      ],
      "text/plain": [
       "   age_diff  exp_DM    exp_MY   exp_Y     exp_YMD  reg_DM    reg_MY   reg_Y  \\\n",
       "0       2.0   510.0  102017.0  2017.0  20171005.0   201.0   12012.0  2012.0   \n",
       "1       2.0   510.0  102017.0  2017.0  20171005.0   201.0   12012.0  2012.0   \n",
       "2      21.0   403.0   32018.0  2018.0  20180304.0   711.0  112011.0  2011.0   \n",
       "3      10.0  3009.0   92017.0  2017.0  20170930.0  2012.0  122015.0  2015.0   \n",
       "4       6.0  3009.0   92017.0  2017.0  20170930.0  2012.0  122015.0  2015.0   \n",
       "\n",
       "      reg_YMD  s_year    sim_us    svd_ua    svd_us  target  u_age  \\\n",
       "0  20120102.0  2016.0  0.056927  0.389718  0.557183       1    0.0   \n",
       "1  20120102.0  2016.0  0.052756  0.441807  0.549274       1    0.0   \n",
       "2  20111107.0  2013.0  0.020542  0.811370  0.839421       1   26.0   \n",
       "3  20151220.0  2010.0 -0.136646  0.381177  0.470182       0   18.0   \n",
       "4  20151220.0  2006.0 -0.085568  0.347342  0.444218       0   18.0   \n",
       "\n",
       "   user_count  country  \n",
       "0        1287        1  \n",
       "1        1287        2  \n",
       "2         247        2  \n",
       "3          84        1  \n",
       "4          84        1  "
      ]
     },
     "execution_count": 5,
     "metadata": {},
     "output_type": "execute_result"
    }
   ],
   "source": [
    "df_all.head()"
   ]
  },
  {
   "cell_type": "code",
   "execution_count": 6,
   "metadata": {},
   "outputs": [],
   "source": [
    "train_set_x, train_set_y, test_set_x, test_set_y = split_data(df_all, train_len, test_len)"
   ]
  },
  {
   "cell_type": "code",
   "execution_count": 7,
   "metadata": {},
   "outputs": [
    {
     "data": {
      "text/plain": [
       "LGBMClassifier(boosting_type='gbdt', class_weight=None, colsample_bytree=0.7,\n",
       "        importance_type='split', learning_rate=0.05, max_depth=15,\n",
       "        min_child_samples=20, min_child_weight=0.001, min_split_gain=0.0,\n",
       "        n_estimators=100, n_jobs=-1, num_leaves=256, objective=None,\n",
       "        random_state=None, reg_alpha=0.0, reg_lambda=0.0, silent=True,\n",
       "        subsample=0.7, subsample_for_bin=200000, subsample_freq=0)"
      ]
     },
     "execution_count": 7,
     "metadata": {},
     "output_type": "execute_result"
    }
   ],
   "source": [
    "model1 = lgbm.LGBMClassifier(learning_rate=0.05, max_depth=15, \n",
    "                             num_leaves=2**8, colsample_bytree=0.7,\n",
    "                             subsample=0.7)\n",
    "model1.fit(train_set_x, train_set_y, verbose=1)"
   ]
  },
  {
   "cell_type": "code",
   "execution_count": 8,
   "metadata": {},
   "outputs": [
    {
     "data": {
      "text/plain": [
       "LGBMClassifier(boosting_type='gbdt', class_weight=None, colsample_bytree=0.9,\n",
       "        importance_type='split', learning_rate=0.1, max_depth=15,\n",
       "        min_child_samples=20, min_child_weight=0.001, min_split_gain=0.0,\n",
       "        n_estimators=100, n_jobs=-1, num_leaves=256, objective=None,\n",
       "        random_state=None, reg_alpha=0.0, reg_lambda=0.0, silent=True,\n",
       "        subsample=0.9, subsample_for_bin=200000, subsample_freq=0)"
      ]
     },
     "execution_count": 8,
     "metadata": {},
     "output_type": "execute_result"
    }
   ],
   "source": [
    "model2 = lgbm.LGBMClassifier(learning_rate=0.1, max_depth=15, \n",
    "                             num_leaves=2**8, colsample_bytree=0.9,\n",
    "                             subsample=0.9)\n",
    "model2.fit(train_set_x, train_set_y, verbose=1)"
   ]
  },
  {
   "cell_type": "code",
   "execution_count": 12,
   "metadata": {},
   "outputs": [
    {
     "name": "stdout",
     "output_type": "stream",
     "text": [
      "model1 train AUC 0.8726497521209631\n",
      "model2 train AUC 0.8818882156234666\n",
      "ensemble_train train AUC 0.8778851381621875\n"
     ]
    }
   ],
   "source": [
    "y1 = [x[1] for x in model1.predict_proba(train_set_x)]\n",
    "print('model1 train AUC',roc_auc_score(train_set_y, y1))\n",
    "y2 = [x[1] for x in model2.predict_proba(train_set_x)]\n",
    "print('model2 train AUC',roc_auc_score(train_set_y, y2))\n",
    "ensemble_train = [(y1[i]+y2[i])/2 for i in range(len(y1))]\n",
    "print('ensemble_train train AUC',roc_auc_score(train_set_y, ensemble_train))"
   ]
  },
  {
   "cell_type": "code",
   "execution_count": 13,
   "metadata": {},
   "outputs": [
    {
     "name": "stdout",
     "output_type": "stream",
     "text": [
      "model1 test AUC 0.5868544340188491\n",
      "model2 test AUC 0.5789327660093572\n",
      "model3 test AUC 0.6046490862371855\n",
      "ensemble_test test AUC 0.5833966231288604\n"
     ]
    }
   ],
   "source": [
    "\n",
    "y_pred1 = [x[1] for x in model1.predict_proba(test_set_x)]\n",
    "print('model1 test AUC',roc_auc_score(test_set_y, y_pred1))\n",
    "y_pred2 = [x[1] for x in model2.predict_proba(test_set_x)]\n",
    "print('model2 test AUC',roc_auc_score(test_set_y, y_pred2))\n",
    "ensemble_test = [(y_pred1[i]+y_pred2[i])/2 for i in range(len(y_pred1))]\n",
    "print('ensemble_test test AUC',roc_auc_score(test_set_y, ensemble_test))\n"
   ]
  },
  {
   "cell_type": "code",
   "execution_count": 16,
   "metadata": {},
   "outputs": [
    {
     "name": "stderr",
     "output_type": "stream",
     "text": [
      "No handles with labels found to put in legend.\n"
     ]
    },
    {
     "data": {
      "image/png": "[encoded data removed]",
      "text/plain": [
       "<Figure size 432x288 with 1 Axes>"
      ]
     },
     "metadata": {
      "needs_background": "light"
     },
     "output_type": "display_data"
    }
   ],
   "source": [
    "# Prints ROC graph\n",
    "fpr, tpr, thresholds = roc_curve(test_set_y, ensemble_test)\n",
    "plt.figure()\n",
    "lw = 2\n",
    "plt.plot(fpr, tpr, color='darkorange', lw=lw)\n",
    "plt.plot([0, 1], [0, 1], color='navy', lw=lw, linestyle='--')\n",
    "plt.xlim([0.0, 1.0])\n",
    "plt.ylim([0.0, 1.05])\n",
    "plt.xlabel('False Positive Rate')\n",
    "plt.ylabel('True Positive Rate')\n",
    "plt.title('Validation ROC')\n",
    "plt.legend(loc=\"lower right\")\n",
    "plt.fill_between(fpr, tpr, facecolor='grey', step=\"pre\", alpha=0.4)\n",
    "plt.show()"
   ]
  }
 ],
 "metadata": {
  "kernelspec": {
   "display_name": "Python 3",
   "language": "python",
   "name": "python3"
  },
  "language_info": {
   "codemirror_mode": {
    "name": "ipython",
    "version": 3
   },
   "file_extension": ".py",
   "mimetype": "text/x-python",
   "name": "python",
   "nbconvert_exporter": "python",
   "pygments_lexer": "ipython3",
   "version": "3.7.1"
  }
 },
 "nbformat": 4,
 "nbformat_minor": 2
}
